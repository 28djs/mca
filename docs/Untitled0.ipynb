{
 "metadata": {
  "name": "",
  "signature": "sha256:1c545216c25842a457ba3ff5f24a2a0069f2e20d74861e6eea74bcc22828d9ca"
 },
 "nbformat": 3,
 "nbformat_minor": 0,
 "worksheets": [
  {
   "cells": [
    {
     "cell_type": "code",
     "collapsed": false,
     "input": [
      "import mca, pandas, numpy"
     ],
     "language": "python",
     "metadata": {},
     "outputs": [
      {
       "output_type": "stream",
       "stream": "stderr",
       "text": [
        "/home/emre/.local/lib/python3.3/site-packages/pandas/io/excel.py:626: UserWarning: Installed openpyxl is not supported at this time. Use >=1.6.1 and <2.0.0.\n",
        "  .format(openpyxl_compat.start_ver, openpyxl_compat.stop_ver))\n"
       ]
      }
     ],
     "prompt_number": 1
    },
    {
     "cell_type": "code",
     "collapsed": false,
     "input": [
      "counts = pandas.read_table('../tests/burgundies.csv', sep=',', skiprows=1, index_col=0, header=0)\n",
      "counts.shape"
     ],
     "language": "python",
     "metadata": {},
     "outputs": [
      {
       "metadata": {},
       "output_type": "pyout",
       "prompt_number": 36,
       "text": [
        "(6, 23)"
       ]
      }
     ],
     "prompt_number": 36
    },
    {
     "cell_type": "code",
     "collapsed": false,
     "input": [
      "mca_counts = mca.mca(counts.drop('oak_type', axis=1))"
     ],
     "language": "python",
     "metadata": {},
     "outputs": [],
     "prompt_number": 23
    },
    {
     "cell_type": "code",
     "collapsed": false,
     "input": [
      "mca_counts.fs_r(1)"
     ],
     "language": "python",
     "metadata": {},
     "outputs": [
      {
       "metadata": {},
       "output_type": "pyout",
       "prompt_number": 44,
       "text": [
        "array([[ 0.87127085,  0.11448396, -0.09250792],\n",
        "       [-0.7209849 , -0.22896791, -0.083259  ],\n",
        "       [-0.93238083,  0.11448396, -0.02206285],\n",
        "       [-0.87127085,  0.11448396,  0.09250792],\n",
        "       [ 0.93238083,  0.11448396,  0.02206285],\n",
        "       [ 0.7209849 , -0.22896791,  0.083259  ]])"
       ]
      }
     ],
     "prompt_number": 44
    },
    {
     "cell_type": "code",
     "collapsed": false,
     "input": [
      "print(mca_counts.inertia, mca_counts.L.sum())"
     ],
     "language": "python",
     "metadata": {},
     "outputs": [
      {
       "output_type": "stream",
       "stream": "stdout",
       "text": [
        "0.747627372985 0.747627372985\n"
       ]
      }
     ],
     "prompt_number": 43
    },
    {
     "cell_type": "code",
     "collapsed": false,
     "input": [
      "mca_counts.fs_r_sup()\n"
     ],
     "language": "python",
     "metadata": {},
     "outputs": [
      {
       "metadata": {},
       "output_type": "pyout",
       "prompt_number": 72,
       "text": [
        "array([[ 0.87127085],\n",
        "       [-0.7209849 ],\n",
        "       [-0.93238083],\n",
        "       [-0.87127085],\n",
        "       [ 0.93238083],\n",
        "       [ 0.7209849 ]])"
       ]
      }
     ],
     "prompt_number": 72
    },
    {
     "cell_type": "code",
     "collapsed": false,
     "input": [
      "mca_counts.fs_r_sup(new_counts, 2)"
     ],
     "language": "python",
     "metadata": {},
     "outputs": [
      {
       "metadata": {},
       "output_type": "pyout",
       "prompt_number": 99,
       "text": [
        "array([[ -3.33523735e-02,   2.27874988e-16],\n",
        "       [  3.13116890e-01,  -1.12938488e-01],\n",
        "       [ -3.33523735e-02,   3.33829232e-16],\n",
        "       [ -5.12296954e-02,   1.21626064e-01],\n",
        "       [ -7.71194728e-03,   4.74341649e-01]])"
       ]
      }
     ],
     "prompt_number": 99
    },
    {
     "cell_type": "code",
     "collapsed": false,
     "input": [
      "new_counts = pandas.DataFrame(numpy.random.randint(0, 2, (5, len(counts.columns)-1)))"
     ],
     "language": "python",
     "metadata": {},
     "outputs": [],
     "prompt_number": 96
    },
    {
     "cell_type": "code",
     "collapsed": false,
     "input": [
      "print(new_counts)"
     ],
     "language": "python",
     "metadata": {},
     "outputs": [
      {
       "output_type": "stream",
       "stream": "stdout",
       "text": [
        "   0   1   2   3   4   5   6   7   8   9  ...  12  13  14  15  16  17  18  19  \\\n",
        "0   0   0   1   0   1   0   1   0   0   1 ...   1   0   1   1   0   1   1   0   \n",
        "1   1   1   1   1   1   0   1   1   0   1 ...   1   1   0   1   0   0   0   1   \n",
        "2   1   0   1   0   1   0   0   1   1   1 ...   1   0   0   0   0   1   1   0   \n",
        "3   0   1   0   1   1   0   0   1   1   1 ...   0   1   1   1   1   0   0   0   \n",
        "4   1   1   1   0   0   1   0   1   0   1 ...   0   1   0   0   0   0   0   0   \n",
        "\n",
        "   20  21  \n",
        "0   0   1  \n",
        "1   1   1  \n",
        "2   0   0  \n",
        "3   1   1  \n",
        "4   0   1  \n",
        "\n",
        "[5 rows x 22 columns]\n"
       ]
      }
     ],
     "prompt_number": 102
    },
    {
     "cell_type": "code",
     "collapsed": false,
     "input": [
      "%pdb"
     ],
     "language": "python",
     "metadata": {},
     "outputs": [
      {
       "output_type": "stream",
       "stream": "stdout",
       "text": [
        "Automatic pdb calling has been turned ON\n"
       ]
      }
     ],
     "prompt_number": 88
    },
    {
     "cell_type": "code",
     "collapsed": false,
     "input": [],
     "language": "python",
     "metadata": {},
     "outputs": []
    }
   ],
   "metadata": {}
  }
 ]
}