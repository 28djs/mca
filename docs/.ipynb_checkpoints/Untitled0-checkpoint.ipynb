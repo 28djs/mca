{
 "metadata": {
  "name": "",
  "signature": "sha256:c2eadb374276efb7d0fd62cb93789906cef92b20c28d5abd02afbe2ce500b0b9"
 },
 "nbformat": 3,
 "nbformat_minor": 0,
 "worksheets": []
}